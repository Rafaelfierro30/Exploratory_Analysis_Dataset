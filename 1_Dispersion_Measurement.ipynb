{
 "cells": [
  {
   "cell_type": "code",
   "execution_count": null,
   "id": "1f42d952",
   "metadata": {},
   "outputs": [],
   "source": [
    "import pandas as pd\n",
    "import numpy as np\n",
    "import matplotlib.pyplot as plt\n",
    "import matplotlib.dates as mdates\n",
    "import seaborn as sns\n",
    "from sklearn.preprocessing import StandardScaler\n",
    "import lasio # Using lasio.read() directly doesn't give full control over this specific format"
   ]
  },
  {
   "cell_type": "code",
   "execution_count": 10,
   "id": "bcfb4037",
   "metadata": {},
   "outputs": [
    {
     "name": "stdout",
     "output_type": "stream",
     "text": [
      "DataFrame with headers from row 65:\n",
      "   Depth(ft)  Rate2 Of Penetration (ft/h)  Stand Pipe Pressure (psi)  \\\n",
      "0       23.0                        117.6                      45.19   \n",
      "1       24.0                          0.0                      42.37   \n",
      "2       25.0                        120.9                      49.75   \n",
      "3       26.0                         98.9                      68.31   \n",
      "4       27.0                        111.8                      64.84   \n",
      "\n",
      "   Pump flow (gpm)  Bit Run (ft)  Bit Time (h)  TotalRotaryTime (h)  \\\n",
      "0           151.01           1.2          0.03                97.31   \n",
      "1           151.01           1.6          0.04                97.33   \n",
      "2           151.01           2.1          0.04                97.33   \n",
      "3           151.01           2.8          0.05                97.34   \n",
      "4           151.01           3.4          0.06                97.35   \n",
      "\n",
      "   RotaryTimeOnBottom (h)  \n",
      "0                    0.25  \n",
      "1                    0.26  \n",
      "2                    0.27  \n",
      "3                    0.28  \n",
      "4                    0.29  \n"
     ]
    }
   ],
   "source": [
    "# Read the LAS file (But had to do it as text file so we can extract data manually)\n",
    "with open('dataset/Sample_Well_Data.las', 'r') as file:\n",
    "    lines = file.readlines()\n",
    "\n",
    "#Get headers\n",
    "headers = lines[64].strip('# \\n').split('\\t')\n",
    "headers = [header.strip() for header in headers]\n",
    "\n",
    "# Find the line where data starts (line 68, index 67)\n",
    "data_start_idx = 67\n",
    "\n",
    "# Parse data lines into a list of lists\n",
    "data = []\n",
    "for i in range(data_start_idx, len(lines)):\n",
    "    if lines[i].strip() and not lines[i].startswith('#') and not lines[i].startswith('~'):\n",
    "        # Split by tabs or multiple spaces and convert to appropriate data types\n",
    "        row_values = [float(val) if val.strip() else np.nan for val in lines[i].split() if val.strip()]\n",
    "        if row_values:  # Only add non-empty rows\n",
    "            data.append(row_values)\n",
    "\n",
    "# Create DataFrame with headers and data\n",
    "MainDF = pd.DataFrame(data, columns=headers)\n",
    "\n",
    "# Display the first few rows of the DataFrame\n",
    "print(\"DataFrame with headers from row 65:\")\n",
    "print(MainDF.head())"
   ]
  },
  {
   "cell_type": "code",
   "execution_count": null,
   "id": "9481738b",
   "metadata": {},
   "outputs": [
    {
     "name": "stdout",
     "output_type": "stream",
     "text": [
      "['Depth(ft)', 'Rate2 Of Penetration (ft/h)', 'Stand Pipe Pressure (psi)', 'Pump flow (gpm)', 'Bit Run (ft)', 'Bit Time (h)', 'TotalRotaryTime (h)', 'RotaryTimeOnBottom (h)']\n"
     ]
    }
   ],
   "source": [
    "print(MainDF.columns.tolist())"
   ]
  },
  {
   "cell_type": "code",
   "execution_count": null,
   "id": "6d3d7fc5",
   "metadata": {},
   "outputs": [
    {
     "data": {
      "text/plain": [
       "194.57132564916785"
      ]
     },
     "execution_count": 19,
     "metadata": {},
     "output_type": "execute_result"
    }
   ],
   "source": [
    "MainDF['Pump flow (gpm)'].std()"
   ]
  },
  {
   "cell_type": "code",
   "execution_count": 20,
   "id": "6f82c1f6",
   "metadata": {},
   "outputs": [
    {
     "name": "stdout",
     "output_type": "stream",
     "text": [
      "979.71\n"
     ]
    }
   ],
   "source": [
    "range = MainDF['Pump flow (gpm)'].max()-MainDF['Pump flow (gpm)'].min()\n",
    "print(range)"
   ]
  },
  {
   "cell_type": "code",
   "execution_count": 21,
   "id": "156c30e7",
   "metadata": {},
   "outputs": [
    {
     "data": {
      "text/html": [
       "<div>\n",
       "<style scoped>\n",
       "    .dataframe tbody tr th:only-of-type {\n",
       "        vertical-align: middle;\n",
       "    }\n",
       "\n",
       "    .dataframe tbody tr th {\n",
       "        vertical-align: top;\n",
       "    }\n",
       "\n",
       "    .dataframe thead th {\n",
       "        text-align: right;\n",
       "    }\n",
       "</style>\n",
       "<table border=\"1\" class=\"dataframe\">\n",
       "  <thead>\n",
       "    <tr style=\"text-align: right;\">\n",
       "      <th></th>\n",
       "      <th>Depth(ft)</th>\n",
       "      <th>Rate2 Of Penetration (ft/h)</th>\n",
       "      <th>Stand Pipe Pressure (psi)</th>\n",
       "      <th>Pump flow (gpm)</th>\n",
       "      <th>Bit Run (ft)</th>\n",
       "      <th>Bit Time (h)</th>\n",
       "      <th>TotalRotaryTime (h)</th>\n",
       "      <th>RotaryTimeOnBottom (h)</th>\n",
       "    </tr>\n",
       "  </thead>\n",
       "  <tbody>\n",
       "    <tr>\n",
       "      <th>count</th>\n",
       "      <td>3993.000000</td>\n",
       "      <td>3993.000000</td>\n",
       "      <td>3993.000000</td>\n",
       "      <td>3993.000000</td>\n",
       "      <td>3993.000000</td>\n",
       "      <td>3993.000000</td>\n",
       "      <td>3993.000000</td>\n",
       "      <td>3993.000000</td>\n",
       "    </tr>\n",
       "    <tr>\n",
       "      <th>mean</th>\n",
       "      <td>2019.000000</td>\n",
       "      <td>184.508239</td>\n",
       "      <td>2013.329447</td>\n",
       "      <td>739.340729</td>\n",
       "      <td>1036.363336</td>\n",
       "      <td>7.479046</td>\n",
       "      <td>25.038517</td>\n",
       "      <td>5.741673</td>\n",
       "    </tr>\n",
       "    <tr>\n",
       "      <th>std</th>\n",
       "      <td>1152.824141</td>\n",
       "      <td>99.491175</td>\n",
       "      <td>850.453636</td>\n",
       "      <td>194.571326</td>\n",
       "      <td>820.394741</td>\n",
       "      <td>4.843960</td>\n",
       "      <td>31.640701</td>\n",
       "      <td>3.894592</td>\n",
       "    </tr>\n",
       "    <tr>\n",
       "      <th>min</th>\n",
       "      <td>23.000000</td>\n",
       "      <td>0.000000</td>\n",
       "      <td>0.000000</td>\n",
       "      <td>0.000000</td>\n",
       "      <td>0.000000</td>\n",
       "      <td>0.000000</td>\n",
       "      <td>0.000000</td>\n",
       "      <td>0.000000</td>\n",
       "    </tr>\n",
       "    <tr>\n",
       "      <th>25%</th>\n",
       "      <td>1021.000000</td>\n",
       "      <td>116.200000</td>\n",
       "      <td>1392.520000</td>\n",
       "      <td>707.550000</td>\n",
       "      <td>309.500000</td>\n",
       "      <td>3.490000</td>\n",
       "      <td>7.560000</td>\n",
       "      <td>2.260000</td>\n",
       "    </tr>\n",
       "    <tr>\n",
       "      <th>50%</th>\n",
       "      <td>2019.000000</td>\n",
       "      <td>171.300000</td>\n",
       "      <td>2389.870000</td>\n",
       "      <td>841.340000</td>\n",
       "      <td>766.400000</td>\n",
       "      <td>6.570000</td>\n",
       "      <td>13.630000</td>\n",
       "      <td>5.220000</td>\n",
       "    </tr>\n",
       "    <tr>\n",
       "      <th>75%</th>\n",
       "      <td>3017.000000</td>\n",
       "      <td>242.500000</td>\n",
       "      <td>2640.430000</td>\n",
       "      <td>847.150000</td>\n",
       "      <td>1730.700000</td>\n",
       "      <td>11.550000</td>\n",
       "      <td>25.740000</td>\n",
       "      <td>8.850000</td>\n",
       "    </tr>\n",
       "    <tr>\n",
       "      <th>max</th>\n",
       "      <td>4015.000000</td>\n",
       "      <td>1082.600000</td>\n",
       "      <td>3020.070000</td>\n",
       "      <td>979.710000</td>\n",
       "      <td>2728.600000</td>\n",
       "      <td>17.450000</td>\n",
       "      <td>133.990000</td>\n",
       "      <td>13.840000</td>\n",
       "    </tr>\n",
       "  </tbody>\n",
       "</table>\n",
       "</div>"
      ],
      "text/plain": [
       "         Depth(ft)  Rate2 Of Penetration (ft/h)  Stand Pipe Pressure (psi)  \\\n",
       "count  3993.000000                  3993.000000                3993.000000   \n",
       "mean   2019.000000                   184.508239                2013.329447   \n",
       "std    1152.824141                    99.491175                 850.453636   \n",
       "min      23.000000                     0.000000                   0.000000   \n",
       "25%    1021.000000                   116.200000                1392.520000   \n",
       "50%    2019.000000                   171.300000                2389.870000   \n",
       "75%    3017.000000                   242.500000                2640.430000   \n",
       "max    4015.000000                  1082.600000                3020.070000   \n",
       "\n",
       "       Pump flow (gpm)  Bit Run (ft)  Bit Time (h)  TotalRotaryTime (h)  \\\n",
       "count      3993.000000   3993.000000   3993.000000          3993.000000   \n",
       "mean        739.340729   1036.363336      7.479046            25.038517   \n",
       "std         194.571326    820.394741      4.843960            31.640701   \n",
       "min           0.000000      0.000000      0.000000             0.000000   \n",
       "25%         707.550000    309.500000      3.490000             7.560000   \n",
       "50%         841.340000    766.400000      6.570000            13.630000   \n",
       "75%         847.150000   1730.700000     11.550000            25.740000   \n",
       "max         979.710000   2728.600000     17.450000           133.990000   \n",
       "\n",
       "       RotaryTimeOnBottom (h)  \n",
       "count             3993.000000  \n",
       "mean                 5.741673  \n",
       "std                  3.894592  \n",
       "min                  0.000000  \n",
       "25%                  2.260000  \n",
       "50%                  5.220000  \n",
       "75%                  8.850000  \n",
       "max                 13.840000  "
      ]
     },
     "execution_count": 21,
     "metadata": {},
     "output_type": "execute_result"
    }
   ],
   "source": [
    "MainDF.describe()"
   ]
  },
  {
   "cell_type": "code",
   "execution_count": 22,
   "id": "1dbe5066",
   "metadata": {},
   "outputs": [
    {
     "data": {
      "text/plain": [
       "<Axes: ylabel='Pump flow (gpm)'>"
      ]
     },
     "execution_count": 22,
     "metadata": {},
     "output_type": "execute_result"
    },
    {
     "data": {
      "image/png": "[encoded data removed]",
      "text/plain": [
       "<Figure size 640x480 with 1 Axes>"
      ]
     },
     "metadata": {},
     "output_type": "display_data"
    }
   ],
   "source": [
    "sns.boxplot(MainDF['Pump flow (gpm)'])"
   ]
  },
  {
   "cell_type": "code",
   "execution_count": 23,
   "id": "2c9db7e7",
   "metadata": {},
   "outputs": [
    {
     "data": {
      "text/plain": [
       "<Axes: ylabel='Rate2 Of Penetration (ft/h)'>"
      ]
     },
     "execution_count": 23,
     "metadata": {},
     "output_type": "execute_result"
    },
    {
     "data": {
      "image/png": "[encoded data removed]",
      "text/plain": [
       "<Figure size 640x480 with 1 Axes>"
      ]
     },
     "metadata": {},
     "output_type": "display_data"
    }
   ],
   "source": [
    "sns.boxplot(MainDF['Rate2 Of Penetration (ft/h)'])"
   ]
  },
  {
   "cell_type": "code",
   "execution_count": null,
   "id": "2eb64339",
   "metadata": {},
   "outputs": [
    {
     "data": {
      "text/plain": [
       "<Axes: ylabel='Frequency'>"
      ]
     },
     "execution_count": 25,
     "metadata": {},
     "output_type": "execute_result"
    },
    {
     "data": {
      "image/png": "[encoded data removed]",
      "text/plain": [
       "<Figure size 640x480 with 1 Axes>"
      ]
     },
     "metadata": {},
     "output_type": "display_data"
    }
   ],
   "source": [
    "#plt.figure(figsize=(40,12))\n",
    "#sns.boxplot(x= MainDF['Rate2 Of Penetration (ft/h)'], y= MainDF['RotaryTimeOnBottom (h)'], data= MainDF)\n"
   ]
  }
 ],
 "metadata": {
  "kernelspec": {
   "display_name": "DataScience",
   "language": "python",
   "name": "python3"
  },
  "language_info": {
   "codemirror_mode": {
    "name": "ipython",
    "version": 3
   },
   "file_extension": ".py",
   "mimetype": "text/x-python",
   "name": "python",
   "nbconvert_exporter": "python",
   "pygments_lexer": "ipython3",
   "version": "3.13.2"
  }
 },
 "nbformat": 4,
 "nbformat_minor": 5
}
